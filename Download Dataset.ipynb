{
 "cells": [
  {
   "cell_type": "code",
   "execution_count": 2,
   "id": "eba9d38f",
   "metadata": {},
   "outputs": [],
   "source": [
    "import os\n",
    "import nltk"
   ]
  },
  {
   "cell_type": "markdown",
   "id": "105c7449",
   "metadata": {},
   "source": [
    "Create a directory named \"Dataset\" if it doesn't exist"
   ]
  },
  {
   "cell_type": "code",
   "execution_count": 3,
   "id": "8a0fc6c8",
   "metadata": {},
   "outputs": [],
   "source": [
    "dataset_folder = \"Dataset\"\n",
    "if not os.path.exists(dataset_folder):\n",
    "    os.makedirs(dataset_folder)"
   ]
  },
  {
   "cell_type": "markdown",
   "id": "0281a22a",
   "metadata": {},
   "source": [
    "Download the IMDb movie reviews dataset to the \"Dataset\" folder"
   ]
  },
  {
   "cell_type": "code",
   "execution_count": 4,
   "id": "e23ebac3",
   "metadata": {},
   "outputs": [
    {
     "name": "stderr",
     "output_type": "stream",
     "text": [
      "[nltk_data] Downloading package movie_reviews to Dataset...\n",
      "[nltk_data]   Unzipping corpora\\movie_reviews.zip.\n"
     ]
    },
    {
     "data": {
      "text/plain": [
       "True"
      ]
     },
     "execution_count": 4,
     "metadata": {},
     "output_type": "execute_result"
    }
   ],
   "source": [
    "nltk.download('movie_reviews', download_dir=dataset_folder)"
   ]
  },
  {
   "cell_type": "code",
   "execution_count": 5,
   "id": "77e28f0a",
   "metadata": {},
   "outputs": [
    {
     "name": "stdout",
     "output_type": "stream",
     "text": [
      "Dataset downloaded to: C:\\Users\\vinit\\Projects\\sentiment analysis\\Dataset\n"
     ]
    }
   ],
   "source": [
    "print(\"Dataset downloaded to:\", os.path.abspath(dataset_folder))"
   ]
  },
  {
   "cell_type": "code",
   "execution_count": null,
   "id": "f4ac8db7",
   "metadata": {},
   "outputs": [],
   "source": []
  }
 ],
 "metadata": {
  "kernelspec": {
   "display_name": "Python 3 (ipykernel)",
   "language": "python",
   "name": "python3"
  },
  "language_info": {
   "codemirror_mode": {
    "name": "ipython",
    "version": 3
   },
   "file_extension": ".py",
   "mimetype": "text/x-python",
   "name": "python",
   "nbconvert_exporter": "python",
   "pygments_lexer": "ipython3",
   "version": "3.9.13"
  }
 },
 "nbformat": 4,
 "nbformat_minor": 5
}
